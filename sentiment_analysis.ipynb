{
  "nbformat": 4,
  "nbformat_minor": 0,
  "metadata": {
    "colab": {
      "name": "sentiment_analysis.ipynb",
      "provenance": [],
      "collapsed_sections": [
        "Knf_b4M7k8F1",
        "Sv9hZAyrNnZ3",
        "FtwLOlgJot-h",
        "VkUqFZcitF0V",
        "xuTdhqirpBPX"
      ],
      "machine_shape": "hm"
    },
    "kernelspec": {
      "name": "python3",
      "display_name": "Python 3"
    }
  },
  "cells": [
    {
      "cell_type": "markdown",
      "metadata": {
        "id": "Knf_b4M7k8F1",
        "colab_type": "text"
      },
      "source": [
        "### Mounting, imports"
      ]
    },
    {
      "cell_type": "code",
      "metadata": {
        "id": "BC9Q_bJ2Mpo-",
        "colab_type": "code",
        "outputId": "71ce50ed-095b-4c41-99e1-7d6b6d009855",
        "colab": {
          "base_uri": "https://localhost:8080/",
          "height": 34
        }
      },
      "source": [
        "from google.colab import drive\n",
        "drive.mount('/content/drive')"
      ],
      "execution_count": 2,
      "outputs": [
        {
          "output_type": "stream",
          "text": [
            "Drive already mounted at /content/drive; to attempt to forcibly remount, call drive.mount(\"/content/drive\", force_remount=True).\n"
          ],
          "name": "stdout"
        }
      ]
    },
    {
      "cell_type": "code",
      "metadata": {
        "id": "5FNyM0P6M7l6",
        "colab_type": "code",
        "outputId": "60897493-bbce-43f8-8059-53f8b99a63a4",
        "colab": {
          "base_uri": "https://localhost:8080/",
          "height": 34
        }
      },
      "source": [
        "from keras.preprocessing.text import Tokenizer\n",
        "import pandas as pd\n",
        "import numpy as np\n",
        "from sklearn.utils import shuffle\n",
        "from sklearn.model_selection import train_test_split\n",
        "from sklearn.metrics import classification_report, confusion_matrix\n",
        "import matplotlib.pyplot as plt\n",
        "import seaborn as sns\n",
        "from sklearn.linear_model import LogisticRegression\n",
        "from sklearn.model_selection import GridSearchCV\n",
        "dataset_path = '/content/drive/My Drive/NLP/dataset/'"
      ],
      "execution_count": 3,
      "outputs": [
        {
          "output_type": "stream",
          "text": [
            "Using TensorFlow backend.\n"
          ],
          "name": "stderr"
        }
      ]
    },
    {
      "cell_type": "markdown",
      "metadata": {
        "id": "Sv9hZAyrNnZ3",
        "colab_type": "text"
      },
      "source": [
        "### Shared Functions"
      ]
    },
    {
      "cell_type": "code",
      "metadata": {
        "id": "faNgURLQXbVQ",
        "colab_type": "code",
        "colab": {}
      },
      "source": [
        "# load and preprocess function\n",
        "def load_data(dataset_path):\n",
        "  pos = pd.read_csv(dataset_path + 'rt-polarity.pos', sep='\\t', header=None, names=['Sentiment'])\n",
        "  neg = pd.read_csv(dataset_path + 'rt-polarity.neg', sep='\\t', header=None, names=['Sentiment'])\n",
        "  pos['Target'] = 1\n",
        "  neg['Target'] = 0\n",
        "\n",
        "  X_full = pd.concat((pos, neg), axis=0, ignore_index=True)\n",
        "  X_full = shuffle(X_full)\n",
        "\n",
        "  y = X_full.Target\n",
        "  X_full.drop(['Target'], axis=1, inplace=True)\n",
        "\n",
        "  X_train, X_test, y_train, y_test = train_test_split(X_full, y, test_size=0.15)\n",
        "  return X_full, X_train, X_test, y_train, y_test\n",
        "\n",
        "# Create and train tokenizer\n",
        "def tokenizer(X):\n",
        "  tokenizer = Tokenizer()\n",
        "  tokenizer.fit_on_texts(X['Sentiment'])\n",
        "  return tokenizer\n",
        "\n",
        "# Tokenize given matrix\n",
        "def data_tokenize(X, tokenizer):\n",
        "  X_emb = tokenizer.texts_to_matrix(X['Sentiment'])\n",
        "  return X_emb\n",
        "\n",
        "# Printing out model accuracy, confusion matrix, plotting heatmap\n",
        "def evaluate_model(y_true, predictions):\n",
        "  cm = confusion_matrix(y_true, predictions)\n",
        "  print(\"\\nConfusion matrix: \\n\", cm)\n",
        "  print(\"\")\n",
        "  cr = classification_report(y_true, predictions)\n",
        "  print(\"Classification report: \\n\", cr)\n",
        "  print(\"\")\n",
        "  sns.heatmap(cm, annot=True)\n",
        "  plt.show()\n",
        "  \n",
        "# Calculate our predictions accuracy\n",
        "def accuracy(y_true, predictions):\n",
        "  accuracy = (predictions == y_true).mean()*100\n",
        "  return accuracy"
      ],
      "execution_count": 0,
      "outputs": []
    },
    {
      "cell_type": "markdown",
      "metadata": {
        "id": "FtwLOlgJot-h",
        "colab_type": "text"
      },
      "source": [
        "# Naive Bayes"
      ]
    },
    {
      "cell_type": "markdown",
      "metadata": {
        "id": "ZPLu8H9Xh55T",
        "colab_type": "text"
      },
      "source": [
        "## Functions"
      ]
    },
    {
      "cell_type": "code",
      "metadata": {
        "id": "_3fT81f4IQeU",
        "colab_type": "code",
        "colab": {}
      },
      "source": [
        "# Calculate Naive Bayes algorithm parameters\n",
        "def calculations(X, y):\n",
        "  p = X[y==1].sum(0) + 1\n",
        "  q = X[y==0].sum(0) + 1\n",
        "  r = np.log((p/p.sum())/(q/q.sum()))\n",
        "  b = np.log(len(p) / len(q))\n",
        "  return r, b\n",
        "\n",
        "# Predict targets of given matrix using learned parameters\n",
        "def predict_Bayes(X, r, b):\n",
        "  pre_preds = np.dot(X, r.T) + b\n",
        "  predictions= pre_preds.T > 0\n",
        "  return predictions"
      ],
      "execution_count": 0,
      "outputs": []
    },
    {
      "cell_type": "markdown",
      "metadata": {
        "id": "rQyRf6IZ1MNd",
        "colab_type": "text"
      },
      "source": [
        "## Data"
      ]
    },
    {
      "cell_type": "code",
      "metadata": {
        "id": "jydAwj4wojt3",
        "colab_type": "code",
        "colab": {
          "base_uri": "https://localhost:8080/",
          "height": 0
        },
        "outputId": "f840600a-19ea-444a-96da-b7dc206aceda"
      },
      "source": [
        "# loading, preprocessing data\n",
        "X_full, X_train, X_test, y_train, y_test = load_data(dataset_path)\n",
        "\n",
        "X_train.head()"
      ],
      "execution_count": 6,
      "outputs": [
        {
          "output_type": "execute_result",
          "data": {
            "text/html": [
              "<div>\n",
              "<style scoped>\n",
              "    .dataframe tbody tr th:only-of-type {\n",
              "        vertical-align: middle;\n",
              "    }\n",
              "\n",
              "    .dataframe tbody tr th {\n",
              "        vertical-align: top;\n",
              "    }\n",
              "\n",
              "    .dataframe thead th {\n",
              "        text-align: right;\n",
              "    }\n",
              "</style>\n",
              "<table border=\"1\" class=\"dataframe\">\n",
              "  <thead>\n",
              "    <tr style=\"text-align: right;\">\n",
              "      <th></th>\n",
              "      <th>Sentiment</th>\n",
              "    </tr>\n",
              "  </thead>\n",
              "  <tbody>\n",
              "    <tr>\n",
              "      <th>7803</th>\n",
              "      <td>trivial where it should be profound , and hype...</td>\n",
              "    </tr>\n",
              "    <tr>\n",
              "      <th>6396</th>\n",
              "      <td>a jumbled fantasy comedy that did not figure o...</td>\n",
              "    </tr>\n",
              "    <tr>\n",
              "      <th>1908</th>\n",
              "      <td>strip it of all its excess debris , and you'd ...</td>\n",
              "    </tr>\n",
              "    <tr>\n",
              "      <th>2143</th>\n",
              "      <td>the film just might turn on many people to ope...</td>\n",
              "    </tr>\n",
              "    <tr>\n",
              "      <th>269</th>\n",
              "      <td>it's solid and affecting and exactly as though...</td>\n",
              "    </tr>\n",
              "  </tbody>\n",
              "</table>\n",
              "</div>"
            ],
            "text/plain": [
              "                                              Sentiment\n",
              "7803  trivial where it should be profound , and hype...\n",
              "6396  a jumbled fantasy comedy that did not figure o...\n",
              "1908  strip it of all its excess debris , and you'd ...\n",
              "2143  the film just might turn on many people to ope...\n",
              "269   it's solid and affecting and exactly as though..."
            ]
          },
          "metadata": {
            "tags": []
          },
          "execution_count": 6
        }
      ]
    },
    {
      "cell_type": "markdown",
      "metadata": {
        "id": "kTt6uiewh8eP",
        "colab_type": "text"
      },
      "source": [
        "## Model"
      ]
    },
    {
      "cell_type": "code",
      "metadata": {
        "id": "bscTqD62bir-",
        "colab_type": "code",
        "colab": {}
      },
      "source": [
        "# creating tokenizer for entries tokenization, fitting on full data\n",
        "tokenizer_bayes = tokenizer(X_full)\n",
        "\n",
        "# tokenize training data\n",
        "X_train_emb = data_tokenize(X_train, tokenizer_bayes)\n",
        "\n",
        "# calculating Naive Bayes model parameters\n",
        "r, b = calculations(X_train_emb, y_train)\n",
        "\n",
        "# tokenize test data\n",
        "X_test_emb = data_tokenize(X_test, tokenizer_bayes)\n",
        "\n",
        "# predicting test data targets\n",
        "predictions_bayes = predict_Bayes(X_test_emb, r, b)\n",
        "\n",
        "# calculating our model accuracy\n",
        "accuracy = accuracy(predictions_bayes, y_test)"
      ],
      "execution_count": 0,
      "outputs": []
    },
    {
      "cell_type": "markdown",
      "metadata": {
        "id": "WAeRi32siAA0",
        "colab_type": "text"
      },
      "source": [
        "## Results"
      ]
    },
    {
      "cell_type": "code",
      "metadata": {
        "id": "szLRyDqPg53q",
        "colab_type": "code",
        "colab": {
          "base_uri": "https://localhost:8080/",
          "height": 0
        },
        "outputId": "8bbb8410-27d3-413c-cbf0-25e9ff914a7c"
      },
      "source": [
        "# printing accuracy\n",
        "print('Test accuracy: {}'.format(accuracy))\n",
        "\n",
        "# model evaluation (confusion matrix, heatmap)\n",
        "evaluate_model(y_test, predictions_bayes)"
      ],
      "execution_count": 8,
      "outputs": [
        {
          "output_type": "stream",
          "text": [
            "Test accuracy: 77.0\n",
            "\n",
            "Confusion matrix: \n",
            " [[635 172]\n",
            " [196 597]]\n",
            "\n",
            "Classification report: \n",
            "               precision    recall  f1-score   support\n",
            "\n",
            "           0       0.76      0.79      0.78       807\n",
            "           1       0.78      0.75      0.76       793\n",
            "\n",
            "    accuracy                           0.77      1600\n",
            "   macro avg       0.77      0.77      0.77      1600\n",
            "weighted avg       0.77      0.77      0.77      1600\n",
            "\n",
            "\n"
          ],
          "name": "stdout"
        },
        {
          "output_type": "display_data",
          "data": {
            "image/png": "[encoded data removed]",
            "text/plain": [
              "<Figure size 432x288 with 2 Axes>"
            ]
          },
          "metadata": {
            "tags": []
          }
        }
      ]
    },
    {
      "cell_type": "markdown",
      "metadata": {
        "id": "xuTdhqirpBPX",
        "colab_type": "text"
      },
      "source": [
        "# Logistic regression"
      ]
    },
    {
      "cell_type": "markdown",
      "metadata": {
        "id": "_C3e5zCbo2lY",
        "colab_type": "text"
      },
      "source": [
        "## Functions"
      ]
    },
    {
      "cell_type": "code",
      "metadata": {
        "id": "IGPT3yHJpDJv",
        "colab_type": "code",
        "colab": {}
      },
      "source": [
        "# Create logistic regression model and try \n",
        "# different hyperparameters for better performance\n",
        "def create_model(C_range, penalties):\n",
        "  grid={\"C\": C_range, \"penalty\": penalties}\n",
        "  logreg = LogisticRegression()\n",
        "  model = GridSearchCV(logreg, grid,cv=10)\n",
        "  return model"
      ],
      "execution_count": 0,
      "outputs": []
    },
    {
      "cell_type": "markdown",
      "metadata": {
        "id": "YXvi1m0d1SVh",
        "colab_type": "text"
      },
      "source": [
        "## Data"
      ]
    },
    {
      "cell_type": "code",
      "metadata": {
        "id": "OW9wxk1SpaJu",
        "colab_type": "code",
        "colab": {
          "base_uri": "https://localhost:8080/",
          "height": 0
        },
        "outputId": "9c746ce5-1691-437b-d322-c9164492cb84"
      },
      "source": [
        "# loading, preprocessing data\n",
        "X_full, X_train, X_test, y_train, y_test = load_data(dataset_path)\n",
        "\n",
        "X_train.head()"
      ],
      "execution_count": 10,
      "outputs": [
        {
          "output_type": "execute_result",
          "data": {
            "text/html": [
              "<div>\n",
              "<style scoped>\n",
              "    .dataframe tbody tr th:only-of-type {\n",
              "        vertical-align: middle;\n",
              "    }\n",
              "\n",
              "    .dataframe tbody tr th {\n",
              "        vertical-align: top;\n",
              "    }\n",
              "\n",
              "    .dataframe thead th {\n",
              "        text-align: right;\n",
              "    }\n",
              "</style>\n",
              "<table border=\"1\" class=\"dataframe\">\n",
              "  <thead>\n",
              "    <tr style=\"text-align: right;\">\n",
              "      <th></th>\n",
              "      <th>Sentiment</th>\n",
              "    </tr>\n",
              "  </thead>\n",
              "  <tbody>\n",
              "    <tr>\n",
              "      <th>7981</th>\n",
              "      <td>\" the kid stays in the picture \" is a great s...</td>\n",
              "    </tr>\n",
              "    <tr>\n",
              "      <th>5506</th>\n",
              "      <td>i found myself growing more and more frustrate...</td>\n",
              "    </tr>\n",
              "    <tr>\n",
              "      <th>7414</th>\n",
              "      <td>it may be a prize winner , but teacher is a bo...</td>\n",
              "    </tr>\n",
              "    <tr>\n",
              "      <th>1993</th>\n",
              "      <td>an absorbing and unsettling psychological dram...</td>\n",
              "    </tr>\n",
              "    <tr>\n",
              "      <th>3959</th>\n",
              "      <td>a b-movie you can sit through , enjoy on a cer...</td>\n",
              "    </tr>\n",
              "  </tbody>\n",
              "</table>\n",
              "</div>"
            ],
            "text/plain": [
              "                                              Sentiment\n",
              "7981   \" the kid stays in the picture \" is a great s...\n",
              "5506  i found myself growing more and more frustrate...\n",
              "7414  it may be a prize winner , but teacher is a bo...\n",
              "1993  an absorbing and unsettling psychological dram...\n",
              "3959  a b-movie you can sit through , enjoy on a cer..."
            ]
          },
          "metadata": {
            "tags": []
          },
          "execution_count": 10
        }
      ]
    },
    {
      "cell_type": "markdown",
      "metadata": {
        "id": "xbuqPIMoqWJD",
        "colab_type": "text"
      },
      "source": [
        "## Model"
      ]
    },
    {
      "cell_type": "code",
      "metadata": {
        "id": "UMqWhG4PpJw-",
        "colab_type": "code",
        "colab": {}
      },
      "source": [
        "# creating tokenizer for entries tokenization, fitting on full data\n",
        "tokenizer_logistic = tokenizer(X_full)\n",
        "\n",
        "# tokenize training data and testing data\n",
        "X_train_emb = data_tokenize(X_train, tokenizer_logistic)\n",
        "X_test_emb = data_tokenize(X_test, tokenizer_logistic)\n",
        "\n",
        "# create a model with grid search for optimal hyperparameters\n",
        "model = create_model(np.logspace(-3,3,7), [\"l1\",\"l2\"])\n",
        "\n",
        "# train model\n",
        "model.fit(X_train_emb, y_train)\n",
        "\n",
        "# make predictions on test data\n",
        "predictions_logistic = model.predict(X_test_emb)\n"
      ],
      "execution_count": 0,
      "outputs": []
    },
    {
      "cell_type": "markdown",
      "metadata": {
        "id": "RyWDq_7Y1Ybz",
        "colab_type": "text"
      },
      "source": [
        "## Results"
      ]
    },
    {
      "cell_type": "code",
      "metadata": {
        "id": "mY6oKz3yq2xR",
        "colab_type": "code",
        "outputId": "431a34b0-0953-4067-f1ef-c2eb53acdcd6",
        "colab": {
          "base_uri": "https://localhost:8080/",
          "height": 575
        }
      },
      "source": [
        "# best parameters\n",
        "print('Best parameters are: {}'.format(model.best_params_))\n",
        "\n",
        "# printing accuracy\n",
        "print('Accuracy: {} %'.format(model.best_score_*100))\n",
        "\n",
        "# model evaluation (confusion matrix, heatmap)\n",
        "evaluate_model(y_test, predictions_logistic)"
      ],
      "execution_count": 14,
      "outputs": [
        {
          "output_type": "stream",
          "text": [
            "Best parameters are: {'C': 1.0, 'penalty': 'l2'}\n",
            "Accuracy: 76.34076362833811 %\n",
            "\n",
            "Confusion matrix: \n",
            " [[597 191]\n",
            " [182 630]]\n",
            "\n",
            "Classification report: \n",
            "               precision    recall  f1-score   support\n",
            "\n",
            "           0       0.77      0.76      0.76       788\n",
            "           1       0.77      0.78      0.77       812\n",
            "\n",
            "    accuracy                           0.77      1600\n",
            "   macro avg       0.77      0.77      0.77      1600\n",
            "weighted avg       0.77      0.77      0.77      1600\n",
            "\n",
            "\n"
          ],
          "name": "stdout"
        },
        {
          "output_type": "display_data",
          "data": {
            "image/png": "[encoded data removed]",
            "text/plain": [
              "<Figure size 432x288 with 2 Axes>"
            ]
          },
          "metadata": {
            "tags": []
          }
        }
      ]
    }
  ]
}