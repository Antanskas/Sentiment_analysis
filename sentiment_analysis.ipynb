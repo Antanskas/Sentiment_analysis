{
  "nbformat": 4,
  "nbformat_minor": 0,
  "metadata": {
    "colab": {
      "name": "sentiment_analysis_final.ipynb",
      "provenance": [],
      "collapsed_sections": []
    },
    "kernelspec": {
      "name": "python3",
      "display_name": "Python 3"
    }
  },
  "cells": [
    {
      "cell_type": "markdown",
      "metadata": {
        "id": "Eee60QizAnjq",
        "colab_type": "text"
      },
      "source": [
        "# Preparation"
      ]
    },
    {
      "cell_type": "code",
      "metadata": {
        "id": "GqqMchaGNg5e",
        "colab_type": "code",
        "colab": {
          "base_uri": "https://localhost:8080/",
          "height": 34
        },
        "outputId": "06600eab-6d16-4622-8069-0848c4dd544a"
      },
      "source": [
        "# mounting notebook with my google drive environment \n",
        "from google.colab import drive\n",
        "drive.mount('/content/drive')"
      ],
      "execution_count": 1,
      "outputs": [
        {
          "output_type": "stream",
          "text": [
            "Drive already mounted at /content/drive; to attempt to forcibly remount, call drive.mount(\"/content/drive\", force_remount=True).\n"
          ],
          "name": "stdout"
        }
      ]
    },
    {
      "cell_type": "markdown",
      "metadata": {
        "id": "D2zDowPNToDb",
        "colab_type": "text"
      },
      "source": [
        "### Imports, functions"
      ]
    },
    {
      "cell_type": "code",
      "metadata": {
        "id": "BUkntzQMTagH",
        "colab_type": "code",
        "colab": {
          "base_uri": "https://localhost:8080/",
          "height": 51
        },
        "outputId": "f93196ec-0847-475d-8412-412bb7fe07bc"
      },
      "source": [
        "from sklearn.feature_extraction.text import TfidfVectorizer\n",
        "from sklearn.naive_bayes import MultinomialNB\n",
        "import time\n",
        "import pandas as pd\n",
        "import numpy as np\n",
        "import matplotlib.pyplot as plt\n",
        "import seaborn as sns\n",
        "from sklearn.utils import shuffle\n",
        "from sklearn.model_selection import train_test_split\n",
        "from sklearn.metrics import classification_report, confusion_matrix\n",
        "from sklearn.linear_model import LogisticRegression\n",
        "from sklearn.model_selection import GridSearchCV\n",
        "\n",
        "dataset_path = '/content/drive/My Drive/NLP/dataset/'\n",
        "print('Datasets:')\n",
        "!dir \"/content/drive/My Drive/NLP/dataset\"\n",
        "\n",
        "def evaluate_model(y_true, predictions):\n",
        "  cm = confusion_matrix(y_true, predictions)\n",
        "  print(\"\\nConfusion matrix: \\n\", cm)\n",
        "  print(\"\")\n",
        "  cr = classification_report(y_true, predictions)\n",
        "  print(\"Classification report: \\n\", cr)\n",
        "  print(\"\")\n",
        "  sns.heatmap(cm, annot=True)\n",
        "  plt.show()"
      ],
      "execution_count": 2,
      "outputs": [
        {
          "output_type": "stream",
          "text": [
            "Datasets:\n",
            "rt-polarity.neg  rt-polarity.pos\n"
          ],
          "name": "stdout"
        }
      ]
    },
    {
      "cell_type": "markdown",
      "metadata": {
        "id": "nn2iq6dWTqjr",
        "colab_type": "text"
      },
      "source": [
        "### Data"
      ]
    },
    {
      "cell_type": "code",
      "metadata": {
        "id": "0HwJXJoCN89U",
        "colab_type": "code",
        "colab": {}
      },
      "source": [
        "def load_data():\n",
        "  # reading files into dataframes\n",
        "  pos = pd.read_csv(dataset_path + 'rt-polarity.pos', sep='\\t', header=None, names=['Sentiment'])\n",
        "  neg = pd.read_csv(dataset_path + 'rt-polarity.neg', sep='\\t', header=None, names=['Sentiment'])\n",
        "  pos['Target'] = 1\n",
        "  neg['Target'] = 0\n",
        "\n",
        "  # creating one X dataframe\n",
        "  X_full = pd.concat((pos, neg), axis=0, ignore_index=True)\n",
        "  X_full = shuffle(X_full)\n",
        "\n",
        "  # splitting data into training and testing parts\n",
        "  X_train, X_test, y_train, y_test = train_test_split(X_full['Sentiment'].values,\n",
        "                                                      X_full['Target'].values,\n",
        "                                                      random_state=0,\n",
        "                                                      test_size=0.2)\n",
        "  return X_full, X_train, X_test, y_train, y_test"
      ],
      "execution_count": 0,
      "outputs": []
    },
    {
      "cell_type": "markdown",
      "metadata": {
        "id": "ZRPU4JMoTyG1",
        "colab_type": "text"
      },
      "source": [
        "### Data vectorization"
      ]
    },
    {
      "cell_type": "code",
      "metadata": {
        "id": "qXmfzwMCT2RO",
        "colab_type": "code",
        "colab": {}
      },
      "source": [
        "# vectorize tokenized examples\n",
        "def vectorizer(X_train, X_test):\n",
        "  vect = TfidfVectorizer(use_idf=True)\n",
        "  X_train_tfidf = vect.fit_transform(X_train)\n",
        "  X_test_tfidf = vect.transform(X_test)\n",
        "  return X_train_tfidf, X_test_tfidf\n",
        "\n",
        "# loading data\n",
        "X_full, X_train, X_test, y_train, y_test = load_data()\n",
        "\n",
        "# vectorized training and testing examples\n",
        "X_train_vec, X_test_vec = vectorizer(X_train, X_test)"
      ],
      "execution_count": 0,
      "outputs": []
    },
    {
      "cell_type": "markdown",
      "metadata": {
        "id": "oybJITbZTtN0",
        "colab_type": "text"
      },
      "source": [
        "# Naive Bayes"
      ]
    },
    {
      "cell_type": "markdown",
      "metadata": {
        "id": "ViDw5ViR7EQ9",
        "colab_type": "text"
      },
      "source": [
        "## Sklearn"
      ]
    },
    {
      "cell_type": "markdown",
      "metadata": {
        "id": "yAeaEKT7eIyF",
        "colab_type": "text"
      },
      "source": [
        "### Functions"
      ]
    },
    {
      "cell_type": "code",
      "metadata": {
        "id": "w1QJap0CXzKw",
        "colab_type": "code",
        "colab": {}
      },
      "source": [
        "# grid search model to find optimal hyperparameters\n",
        "def nb_model(alpha):\n",
        "  grid={\"alpha\": alpha}\n",
        "  nb_model = MultinomialNB()\n",
        "  model = GridSearchCV(nb_model, grid,cv=5)\n",
        "  return model"
      ],
      "execution_count": 0,
      "outputs": []
    },
    {
      "cell_type": "markdown",
      "metadata": {
        "id": "qXT74zFKVF2B",
        "colab_type": "text"
      },
      "source": [
        "### Model"
      ]
    },
    {
      "cell_type": "code",
      "metadata": {
        "id": "mUL5jiToYXa2",
        "colab_type": "code",
        "colab": {
          "base_uri": "https://localhost:8080/",
          "height": 34
        },
        "outputId": "004789ea-27cd-436c-d7f6-c26bf89c12ab"
      },
      "source": [
        "# creating and training a model\n",
        "start_time = time.time()\n",
        "model = nb_model(np.linspace(0.1,5, 10))\n",
        "model.fit(X_train_vec, y_train)\n",
        "pred_nb = model.predict(X_test_vec)\n",
        "print('Execution time: {}'.format(time.time() - start_time))"
      ],
      "execution_count": 6,
      "outputs": [
        {
          "output_type": "stream",
          "text": [
            "Execution time: 0.2579948902130127\n"
          ],
          "name": "stdout"
        }
      ]
    },
    {
      "cell_type": "markdown",
      "metadata": {
        "id": "QTGx73aGVHWK",
        "colab_type": "text"
      },
      "source": [
        "### Evaluation"
      ]
    },
    {
      "cell_type": "code",
      "metadata": {
        "id": "wiXfoq1SVI76",
        "colab_type": "code",
        "colab": {}
      },
      "source": [
        "# creating confusion matrix and classification report\n",
        "cm_nb = confusion_matrix(y_test, pred_nb)\n",
        "cr_nb = classification_report(y_test, pred_nb)"
      ],
      "execution_count": 0,
      "outputs": []
    },
    {
      "cell_type": "code",
      "metadata": {
        "id": "lzvcqWRtVLHx",
        "colab_type": "code",
        "colab": {
          "base_uri": "https://localhost:8080/",
          "height": 575
        },
        "outputId": "36f46372-88dd-4812-e000-10a6519d0314"
      },
      "source": [
        "# best parameters\n",
        "print('Best parameters are: {}'.format(model.best_params_))\n",
        "# accuracy\n",
        "print('Accuracy: {} %'.format(model.best_score_*100))\n",
        "# confusion matrix, classification report\n",
        "evaluate_model(y_test, pred_nb)"
      ],
      "execution_count": 8,
      "outputs": [
        {
          "output_type": "stream",
          "text": [
            "Best parameters are: {'alpha': 1.7333333333333336}\n",
            "Accuracy: 77.59409074920858 %\n",
            "\n",
            "Confusion matrix: \n",
            " [[832 233]\n",
            " [248 820]]\n",
            "\n",
            "Classification report: \n",
            "               precision    recall  f1-score   support\n",
            "\n",
            "           0       0.77      0.78      0.78      1065\n",
            "           1       0.78      0.77      0.77      1068\n",
            "\n",
            "    accuracy                           0.77      2133\n",
            "   macro avg       0.77      0.77      0.77      2133\n",
            "weighted avg       0.77      0.77      0.77      2133\n",
            "\n",
            "\n"
          ],
          "name": "stdout"
        },
        {
          "output_type": "display_data",
          "data": {
            "image/png": "[encoded data removed]",
            "text/plain": [
              "<Figure size 432x288 with 2 Axes>"
            ]
          },
          "metadata": {
            "tags": []
          }
        }
      ]
    },
    {
      "cell_type": "markdown",
      "metadata": {
        "id": "4V8-7FudgDN9",
        "colab_type": "text"
      },
      "source": [
        "### Execution time for models comparison"
      ]
    },
    {
      "cell_type": "code",
      "metadata": {
        "id": "1oCQ2WqdgE8X",
        "colab_type": "code",
        "colab": {
          "base_uri": "https://localhost:8080/",
          "height": 88
        },
        "outputId": "0c81fe1a-18ba-4e46-b939-f470c42f6760"
      },
      "source": [
        "start_log = time.time()\n",
        "model = LogisticRegression(C=4, penalty='l2')\n",
        "model.fit(X_train_vec, y_train)\n",
        "acc = model.score(X_test_vec, y_test)\n",
        "print('Execution time: {}s'.format(time.time() - start_log))"
      ],
      "execution_count": 9,
      "outputs": [
        {
          "output_type": "stream",
          "text": [
            "Execution time: 0.07679104804992676s\n"
          ],
          "name": "stdout"
        },
        {
          "output_type": "stream",
          "text": [
            "/usr/local/lib/python3.6/dist-packages/sklearn/linear_model/logistic.py:432: FutureWarning: Default solver will be changed to 'lbfgs' in 0.22. Specify a solver to silence this warning.\n",
            "  FutureWarning)\n"
          ],
          "name": "stderr"
        }
      ]
    },
    {
      "cell_type": "markdown",
      "metadata": {
        "id": "aXbMjAep7Npx",
        "colab_type": "text"
      },
      "source": [
        "## From scratch"
      ]
    },
    {
      "cell_type": "markdown",
      "metadata": {
        "id": "3tH53M277R2y",
        "colab_type": "text"
      },
      "source": [
        "### Functions"
      ]
    },
    {
      "cell_type": "code",
      "metadata": {
        "id": "eAzB4qWn7ZGw",
        "colab_type": "code",
        "colab": {}
      },
      "source": [
        "# Calculate Naive Bayes algorithm parameters\n",
        "def calculations(X, y):\n",
        "  p = X[y==1].sum(0) + 1\n",
        "  q = X[y==0].sum(0) + 1\n",
        "  r = np.log((p/p.sum())/(q/q.sum()))\n",
        "  b = np.log(len(p) / len(q))\n",
        "  return r, b\n",
        "\n",
        "# Predict targets of given matrix using learned parameters\n",
        "def predict_Bayes(X, r, b):\n",
        "  pre_preds = X @ r.T + b\n",
        "  predictions= pre_preds.T > 0\n",
        "  return predictions\n",
        "\n",
        "# Calculate our predictions accuracy\n",
        "def accuracy(y_true, predictions):\n",
        "  accuracy = (predictions == y_true).mean()*100\n",
        "  return accuracy"
      ],
      "execution_count": 0,
      "outputs": []
    },
    {
      "cell_type": "markdown",
      "metadata": {
        "id": "DBBChOMm7du2",
        "colab_type": "text"
      },
      "source": [
        "### Model"
      ]
    },
    {
      "cell_type": "code",
      "metadata": {
        "id": "LMQidblb7ekR",
        "colab_type": "code",
        "colab": {
          "base_uri": "https://localhost:8080/",
          "height": 34
        },
        "outputId": "bff13d94-8731-4134-8a85-0f11ded1e451"
      },
      "source": [
        "start_time = time.time()\n",
        "# calculating Naive Bayes model parameters\n",
        "r, b = calculations(X_train_vec, y_train)\n",
        "\n",
        "# predicting test data targets\n",
        "pred_nb_sc = predict_Bayes(X_test_vec, r, b)\n",
        "\n",
        "# calculating our model accuracy\n",
        "accuracy = accuracy(pred_nb_sc, y_test)\n",
        "print('Execution time: {}s'.format(time.time() - start_time))"
      ],
      "execution_count": 11,
      "outputs": [
        {
          "output_type": "stream",
          "text": [
            "Execution time: 0.005614519119262695s\n"
          ],
          "name": "stdout"
        }
      ]
    },
    {
      "cell_type": "markdown",
      "metadata": {
        "id": "RHPod8M17h3H",
        "colab_type": "text"
      },
      "source": [
        "### Evaluation"
      ]
    },
    {
      "cell_type": "code",
      "metadata": {
        "id": "ZRBTj3MB7jlC",
        "colab_type": "code",
        "colab": {
          "base_uri": "https://localhost:8080/",
          "height": 558
        },
        "outputId": "3e94700d-01b1-4b2e-fd28-c0d0309d93e3"
      },
      "source": [
        "# printing accuracy\n",
        "print('Test accuracy: {}'.format(accuracy))\n",
        "\n",
        "# model evaluation (confusion matrix, heatmap)\n",
        "evaluate_model(y_test, pred_nb_sc.T)"
      ],
      "execution_count": 12,
      "outputs": [
        {
          "output_type": "stream",
          "text": [
            "Test accuracy: 77.44960150023441\n",
            "\n",
            "Confusion matrix: \n",
            " [[831 234]\n",
            " [247 821]]\n",
            "\n",
            "Classification report: \n",
            "               precision    recall  f1-score   support\n",
            "\n",
            "           0       0.77      0.78      0.78      1065\n",
            "           1       0.78      0.77      0.77      1068\n",
            "\n",
            "    accuracy                           0.77      2133\n",
            "   macro avg       0.77      0.77      0.77      2133\n",
            "weighted avg       0.77      0.77      0.77      2133\n",
            "\n",
            "\n"
          ],
          "name": "stdout"
        },
        {
          "output_type": "display_data",
          "data": {
            "image/png": "[encoded data removed]",
            "text/plain": [
              "<Figure size 432x288 with 2 Axes>"
            ]
          },
          "metadata": {
            "tags": []
          }
        }
      ]
    },
    {
      "cell_type": "markdown",
      "metadata": {
        "id": "7wqqfLzRUymC",
        "colab_type": "text"
      },
      "source": [
        "# Logistic regression"
      ]
    },
    {
      "cell_type": "markdown",
      "metadata": {
        "id": "ffCPYo4zeKuZ",
        "colab_type": "text"
      },
      "source": [
        "### Functions"
      ]
    },
    {
      "cell_type": "code",
      "metadata": {
        "id": "LuNIJnVZX894",
        "colab_type": "code",
        "colab": {}
      },
      "source": [
        "# grid search model to find optimal hyperparameters\n",
        "def loregr_model(C_range, penalties):\n",
        "  grid={\"C\": C_range, \"penalty\": penalties}\n",
        "  logreg = LogisticRegression()\n",
        "  model = GridSearchCV(logreg, grid,cv=2)\n",
        "  return model"
      ],
      "execution_count": 0,
      "outputs": []
    },
    {
      "cell_type": "markdown",
      "metadata": {
        "id": "obT9k3y-eNlh",
        "colab_type": "text"
      },
      "source": [
        "### Model"
      ]
    },
    {
      "cell_type": "code",
      "metadata": {
        "id": "smA4QLUxY7xj",
        "colab_type": "code",
        "colab": {
          "base_uri": "https://localhost:8080/",
          "height": 88
        },
        "outputId": "0c28a0a0-3037-4ce4-96a9-150630a59b45"
      },
      "source": [
        "# creating and training a model\n",
        "start_time = time.time()\n",
        "model = loregr_model(np.linspace(1,10,10), [\"l1\",\"l2\"])\n",
        "model.fit(X_train_vec, y_train)\n",
        "pred_lg = model.predict(X_test_vec)\n",
        "print('Execution time: {}'.format(time.time() - start_time))"
      ],
      "execution_count": 14,
      "outputs": [
        {
          "output_type": "stream",
          "text": [
            "/usr/local/lib/python3.6/dist-packages/sklearn/linear_model/logistic.py:432: FutureWarning: Default solver will be changed to 'lbfgs' in 0.22. Specify a solver to silence this warning.\n",
            "  FutureWarning)\n"
          ],
          "name": "stderr"
        },
        {
          "output_type": "stream",
          "text": [
            "Execution time: 2.4189679622650146\n"
          ],
          "name": "stdout"
        }
      ]
    },
    {
      "cell_type": "markdown",
      "metadata": {
        "id": "NYC_s-HlVg9S",
        "colab_type": "text"
      },
      "source": [
        "### Evaluation"
      ]
    },
    {
      "cell_type": "code",
      "metadata": {
        "id": "mPEvIJWoVjJc",
        "colab_type": "code",
        "colab": {}
      },
      "source": [
        "# creating confusion matrix and classification report\n",
        "cm_lg = confusion_matrix(y_test, pred_lg)\n",
        "cr_lg = classification_report(y_test, pred_lg)"
      ],
      "execution_count": 0,
      "outputs": []
    },
    {
      "cell_type": "code",
      "metadata": {
        "id": "9K1k8dJ_VmKv",
        "colab_type": "code",
        "colab": {
          "base_uri": "https://localhost:8080/",
          "height": 575
        },
        "outputId": "e7a88558-4108-4932-986a-6162570bddaf"
      },
      "source": [
        "# best parameters\n",
        "print('Best parameters are: {}'.format(model.best_params_))\n",
        "# accuracy\n",
        "print('Accuracy: {} %'.format(model.best_score_*100))\n",
        "# confusion matrix, classification report\n",
        "evaluate_model(y_test, pred_nb)"
      ],
      "execution_count": 16,
      "outputs": [
        {
          "output_type": "stream",
          "text": [
            "Best parameters are: {'C': 7.0, 'penalty': 'l2'}\n",
            "Accuracy: 74.49876890608512 %\n",
            "\n",
            "Confusion matrix: \n",
            " [[832 233]\n",
            " [248 820]]\n",
            "\n",
            "Classification report: \n",
            "               precision    recall  f1-score   support\n",
            "\n",
            "           0       0.77      0.78      0.78      1065\n",
            "           1       0.78      0.77      0.77      1068\n",
            "\n",
            "    accuracy                           0.77      2133\n",
            "   macro avg       0.77      0.77      0.77      2133\n",
            "weighted avg       0.77      0.77      0.77      2133\n",
            "\n",
            "\n"
          ],
          "name": "stdout"
        },
        {
          "output_type": "display_data",
          "data": {
            "image/png": "[encoded data removed]",
            "text/plain": [
              "<Figure size 432x288 with 2 Axes>"
            ]
          },
          "metadata": {
            "tags": []
          }
        }
      ]
    },
    {
      "cell_type": "markdown",
      "metadata": {
        "id": "xWY3s-pJf0PD",
        "colab_type": "text"
      },
      "source": [
        "### Execution time for models comparison"
      ]
    },
    {
      "cell_type": "code",
      "metadata": {
        "id": "oWT57KOsf2MN",
        "colab_type": "code",
        "colab": {
          "base_uri": "https://localhost:8080/",
          "height": 88
        },
        "outputId": "48b045ff-336b-43c8-9cd6-e0b2909af1ec"
      },
      "source": [
        "start_log = time.time()\n",
        "model = LogisticRegression(C=4, penalty='l2')\n",
        "model.fit(X_train_vec, y_train)\n",
        "acc = model.score(X_test_vec, y_test)\n",
        "print('Execution time: {}s'.format(time.time() - start_log))"
      ],
      "execution_count": 17,
      "outputs": [
        {
          "output_type": "stream",
          "text": [
            "Execution time: 0.07988595962524414s\n"
          ],
          "name": "stdout"
        },
        {
          "output_type": "stream",
          "text": [
            "/usr/local/lib/python3.6/dist-packages/sklearn/linear_model/logistic.py:432: FutureWarning: Default solver will be changed to 'lbfgs' in 0.22. Specify a solver to silence this warning.\n",
            "  FutureWarning)\n"
          ],
          "name": "stderr"
        }
      ]
    }
  ]
}