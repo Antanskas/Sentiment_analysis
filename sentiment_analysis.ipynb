{
  "nbformat": 4,
  "nbformat_minor": 0,
  "metadata": {
    "colab": {
      "name": "Sentiment_Analysis.ipynb",
      "provenance": [],
      "collapsed_sections": []
    },
    "kernelspec": {
      "name": "python3",
      "display_name": "Python 3"
    }
  },
  "cells": [
    {
      "cell_type": "code",
      "metadata": {
        "id": "4oK2BBikmKx-",
        "colab_type": "code",
        "colab": {
          "base_uri": "https://localhost:8080/",
          "height": 139
        },
        "outputId": "2e1c10ce-729d-4ef1-8c64-28a7aa5e6273"
      },
      "source": [
        "# mounting notebook with my google drive environment \n",
        "from google.colab import drive\n",
        "drive.mount('/content/drive')\n",
        "\n",
        "%cd '/content/drive/My Drive/NLP'\n",
        "\n",
        "from functions import *\n",
        "dataset_path = '/content/drive/My Drive/NLP/dataset/'"
      ],
      "execution_count": 1,
      "outputs": [
        {
          "output_type": "stream",
          "text": [
            "Go to this URL in a browser: https://accounts.google.com/o/oauth2/auth?client_id=947318989803-6bn6qk8qdgf4n4g3pfee6491hc0brc4i.apps.googleusercontent.com&redirect_uri=urn%3Aietf%3Awg%3Aoauth%3A2.0%3Aoob&scope=email%20https%3A%2F%2Fwww.googleapis.com%2Fauth%2Fdocs.test%20https%3A%2F%2Fwww.googleapis.com%2Fauth%2Fdrive%20https%3A%2F%2Fwww.googleapis.com%2Fauth%2Fdrive.photos.readonly%20https%3A%2F%2Fwww.googleapis.com%2Fauth%2Fpeopleapi.readonly&response_type=code\n",
            "\n",
            "Enter your authorization code:\n",
            "··········\n",
            "Mounted at /content/drive\n",
            "/content/drive/My Drive/NLP\n"
          ],
          "name": "stdout"
        }
      ]
    },
    {
      "cell_type": "markdown",
      "metadata": {
        "id": "kdgRUE2Ftjbp",
        "colab_type": "text"
      },
      "source": [
        "### Data"
      ]
    },
    {
      "cell_type": "code",
      "metadata": {
        "id": "VlU6haK2tlsJ",
        "colab_type": "code",
        "colab": {}
      },
      "source": [
        "# loading data\n",
        "X_full, X_train, X_test, y_train, y_test = load_data(dataset_path)\n",
        "\n",
        "# vectorized training and testing examples\n",
        "X_train_vec, X_test_vec = vectorizer(X_train, X_test)"
      ],
      "execution_count": 0,
      "outputs": []
    },
    {
      "cell_type": "markdown",
      "metadata": {
        "id": "qdzlGAdrmi3Q",
        "colab_type": "text"
      },
      "source": [
        "# Naive Bayes"
      ]
    },
    {
      "cell_type": "markdown",
      "metadata": {
        "id": "OlIWLVefmlOk",
        "colab_type": "text"
      },
      "source": [
        "## With Sklearn"
      ]
    },
    {
      "cell_type": "markdown",
      "metadata": {
        "id": "Qe6qnAp_vk1V",
        "colab_type": "text"
      },
      "source": [
        "### Model"
      ]
    },
    {
      "cell_type": "code",
      "metadata": {
        "id": "X_esVROfmnct",
        "colab_type": "code",
        "colab": {
          "base_uri": "https://localhost:8080/",
          "height": 34
        },
        "outputId": "5e106873-23b9-4aa6-b0f0-76ab17472076"
      },
      "source": [
        "# creating and training a model\n",
        "start_time = time.time()\n",
        "model = nb_model(np.linspace(0.1,5, 10))\n",
        "model.fit(X_train_vec, y_train)\n",
        "pred_nb = model.predict(X_test_vec)\n",
        "print('Execution time: {}'.format(time.time() - start_time))"
      ],
      "execution_count": 3,
      "outputs": [
        {
          "output_type": "stream",
          "text": [
            "Execution time: 0.2779834270477295\n"
          ],
          "name": "stdout"
        }
      ]
    },
    {
      "cell_type": "markdown",
      "metadata": {
        "id": "HDlUGIyovmov",
        "colab_type": "text"
      },
      "source": [
        "### Evaluation"
      ]
    },
    {
      "cell_type": "code",
      "metadata": {
        "id": "jOJqu4rOvoC7",
        "colab_type": "code",
        "colab": {}
      },
      "source": [
        "# creating confusion matrix and classification report\n",
        "cm_nb = confusion_matrix(y_test, pred_nb)\n",
        "cr_nb = classification_report(y_test, pred_nb)"
      ],
      "execution_count": 0,
      "outputs": []
    },
    {
      "cell_type": "code",
      "metadata": {
        "id": "dt69ndAymfFu",
        "colab_type": "code",
        "colab": {
          "base_uri": "https://localhost:8080/",
          "height": 575
        },
        "outputId": "b5ab7d42-001a-4585-8843-9ebbd359d819"
      },
      "source": [
        "# best parameters\n",
        "print('Best parameters are: {}'.format(model.best_params_))\n",
        "# accuracy\n",
        "print('Accuracy: {} %'.format(model.best_score_*100))\n",
        "# confusion matrix, classification report\n",
        "evaluate_model(y_test, pred_nb)"
      ],
      "execution_count": 5,
      "outputs": [
        {
          "output_type": "stream",
          "text": [
            "Best parameters are: {'alpha': 2.277777777777778}\n",
            "Accuracy: 77.6058154531598 %\n",
            "\n",
            "Confusion matrix: \n",
            " [[843 253]\n",
            " [196 841]]\n",
            "\n",
            "Classification report: \n",
            "               precision    recall  f1-score   support\n",
            "\n",
            "           0       0.81      0.77      0.79      1096\n",
            "           1       0.77      0.81      0.79      1037\n",
            "\n",
            "    accuracy                           0.79      2133\n",
            "   macro avg       0.79      0.79      0.79      2133\n",
            "weighted avg       0.79      0.79      0.79      2133\n",
            "\n",
            "\n"
          ],
          "name": "stdout"
        },
        {
          "output_type": "display_data",
          "data": {
            "image/png": "[encoded data removed]",
            "text/plain": [
              "<Figure size 432x288 with 2 Axes>"
            ]
          },
          "metadata": {
            "tags": []
          }
        }
      ]
    },
    {
      "cell_type": "markdown",
      "metadata": {
        "id": "b-O8FVw_v-wi",
        "colab_type": "text"
      },
      "source": [
        "### Execution time for models comparison"
      ]
    },
    {
      "cell_type": "code",
      "metadata": {
        "id": "WfF0HfvEv_jJ",
        "colab_type": "code",
        "colab": {
          "base_uri": "https://localhost:8080/",
          "height": 34
        },
        "outputId": "2638ce7e-dc41-4edf-83ab-eed91d25e2d3"
      },
      "source": [
        "start_log = time.time()\n",
        "model = MultinomialNB(alpha=1.2)\n",
        "model.fit(X_train_vec, y_train)\n",
        "acc = model.score(X_test_vec, y_test)\n",
        "print('Execution time: {}s'.format(time.time() - start_log))"
      ],
      "execution_count": 6,
      "outputs": [
        {
          "output_type": "stream",
          "text": [
            "Execution time: 0.01362156867980957s\n"
          ],
          "name": "stdout"
        }
      ]
    },
    {
      "cell_type": "markdown",
      "metadata": {
        "id": "jGvVX2viwPDP",
        "colab_type": "text"
      },
      "source": [
        "## From scratch"
      ]
    },
    {
      "cell_type": "code",
      "metadata": {
        "id": "usN9s1IpwPnz",
        "colab_type": "code",
        "colab": {
          "base_uri": "https://localhost:8080/",
          "height": 34
        },
        "outputId": "bcbcb891-2617-4ae6-a1c9-78f2fcfee421"
      },
      "source": [
        "start_time = time.time()\n",
        "# calculating Naive Bayes model parameters\n",
        "r, b = calculations(X_train_vec, y_train)\n",
        "\n",
        "# predicting test data targets\n",
        "pred_nb_sc = predict_Bayes(X_test_vec, r, b)\n",
        "\n",
        "# calculating our model accuracy\n",
        "accuracy = accuracy(pred_nb_sc, y_test)\n",
        "print('Execution time: {}s'.format(time.time() - start_time))"
      ],
      "execution_count": 7,
      "outputs": [
        {
          "output_type": "stream",
          "text": [
            "Execution time: 0.008077621459960938s\n"
          ],
          "name": "stdout"
        }
      ]
    },
    {
      "cell_type": "code",
      "metadata": {
        "id": "3s43TGXOwYO8",
        "colab_type": "code",
        "colab": {
          "base_uri": "https://localhost:8080/",
          "height": 558
        },
        "outputId": "2c1f31f0-8ed5-4b33-904b-25afbe08b2dd"
      },
      "source": [
        "# printing accuracy\n",
        "print('Test accuracy: {}'.format(accuracy))\n",
        "\n",
        "# model evaluation (confusion matrix, heatmap)\n",
        "evaluate_model(y_test, pred_nb_sc.T)"
      ],
      "execution_count": 8,
      "outputs": [
        {
          "output_type": "stream",
          "text": [
            "Test accuracy: 78.4341303328645\n",
            "\n",
            "Confusion matrix: \n",
            " [[848 248]\n",
            " [212 825]]\n",
            "\n",
            "Classification report: \n",
            "               precision    recall  f1-score   support\n",
            "\n",
            "           0       0.80      0.77      0.79      1096\n",
            "           1       0.77      0.80      0.78      1037\n",
            "\n",
            "    accuracy                           0.78      2133\n",
            "   macro avg       0.78      0.78      0.78      2133\n",
            "weighted avg       0.78      0.78      0.78      2133\n",
            "\n",
            "\n"
          ],
          "name": "stdout"
        },
        {
          "output_type": "display_data",
          "data": {
            "image/png": "[encoded data removed]",
            "text/plain": [
              "<Figure size 432x288 with 2 Axes>"
            ]
          },
          "metadata": {
            "tags": []
          }
        }
      ]
    },
    {
      "cell_type": "markdown",
      "metadata": {
        "id": "M-FO5LxuwcKn",
        "colab_type": "text"
      },
      "source": [
        "# Logistic regression"
      ]
    },
    {
      "cell_type": "markdown",
      "metadata": {
        "id": "dXIaR6IGwfKg",
        "colab_type": "text"
      },
      "source": [
        "### Model"
      ]
    },
    {
      "cell_type": "code",
      "metadata": {
        "id": "t5Mj-GvLwcrs",
        "colab_type": "code",
        "colab": {
          "base_uri": "https://localhost:8080/",
          "height": 88
        },
        "outputId": "8c61745b-6c0c-4a01-e55c-e0a7204add55"
      },
      "source": [
        "# creating and training a model\n",
        "start_time = time.time()\n",
        "model = loregr_model(np.linspace(1,10,10), [\"l1\",\"l2\"])\n",
        "model.fit(X_train_vec, y_train)\n",
        "pred_lg = model.predict(X_test_vec)\n",
        "print('Execution time: {}'.format(time.time() - start_time))"
      ],
      "execution_count": 9,
      "outputs": [
        {
          "output_type": "stream",
          "text": [
            "/usr/local/lib/python3.6/dist-packages/sklearn/linear_model/logistic.py:432: FutureWarning: Default solver will be changed to 'lbfgs' in 0.22. Specify a solver to silence this warning.\n",
            "  FutureWarning)\n"
          ],
          "name": "stderr"
        },
        {
          "output_type": "stream",
          "text": [
            "Execution time: 2.514981508255005\n"
          ],
          "name": "stdout"
        }
      ]
    },
    {
      "cell_type": "markdown",
      "metadata": {
        "id": "Bpu0porewg7X",
        "colab_type": "text"
      },
      "source": [
        "### Evaluation"
      ]
    },
    {
      "cell_type": "code",
      "metadata": {
        "id": "g8Kpei72wjLQ",
        "colab_type": "code",
        "colab": {}
      },
      "source": [
        "# creating confusion matrix and classification report\n",
        "cm_lg = confusion_matrix(y_test, pred_lg)\n",
        "cr_lg = classification_report(y_test, pred_lg)"
      ],
      "execution_count": 0,
      "outputs": []
    },
    {
      "cell_type": "code",
      "metadata": {
        "id": "EtXomHGGwmdq",
        "colab_type": "code",
        "colab": {
          "base_uri": "https://localhost:8080/",
          "height": 575
        },
        "outputId": "dcc4ad47-e9b6-4aa4-b777-b8b3ac1d10d7"
      },
      "source": [
        "# best parameters\n",
        "print('Best parameters are: {}'.format(model.best_params_))\n",
        "# accuracy\n",
        "print('Accuracy: {} %'.format(model.best_score_*100))\n",
        "# confusion matrix, classification report\n",
        "evaluate_model(y_test, pred_lg)"
      ],
      "execution_count": 11,
      "outputs": [
        {
          "output_type": "stream",
          "text": [
            "Best parameters are: {'C': 6.0, 'penalty': 'l2'}\n",
            "Accuracy: 74.5339430179388 %\n",
            "\n",
            "Confusion matrix: \n",
            " [[827 269]\n",
            " [208 829]]\n",
            "\n",
            "Classification report: \n",
            "               precision    recall  f1-score   support\n",
            "\n",
            "           0       0.80      0.75      0.78      1096\n",
            "           1       0.76      0.80      0.78      1037\n",
            "\n",
            "    accuracy                           0.78      2133\n",
            "   macro avg       0.78      0.78      0.78      2133\n",
            "weighted avg       0.78      0.78      0.78      2133\n",
            "\n",
            "\n"
          ],
          "name": "stdout"
        },
        {
          "output_type": "display_data",
          "data": {
            "image/png": "[encoded data removed]",
            "text/plain": [
              "<Figure size 432x288 with 2 Axes>"
            ]
          },
          "metadata": {
            "tags": []
          }
        }
      ]
    },
    {
      "cell_type": "markdown",
      "metadata": {
        "id": "TFMgyRyEwpWw",
        "colab_type": "text"
      },
      "source": [
        "### Execution time for models comparison"
      ]
    },
    {
      "cell_type": "code",
      "metadata": {
        "id": "DKVwXrKXwo66",
        "colab_type": "code",
        "colab": {
          "base_uri": "https://localhost:8080/",
          "height": 88
        },
        "outputId": "1f10b07d-11ad-47cd-afd3-d4d17e12952d"
      },
      "source": [
        "start_log = time.time()\n",
        "model = LogisticRegression(C=4, penalty='l2')\n",
        "model.fit(X_train_vec, y_train)\n",
        "acc = model.score(X_test_vec, y_test)\n",
        "print('Execution time: {}s'.format(time.time() - start_log))"
      ],
      "execution_count": 12,
      "outputs": [
        {
          "output_type": "stream",
          "text": [
            "Execution time: 0.07344603538513184s\n"
          ],
          "name": "stdout"
        },
        {
          "output_type": "stream",
          "text": [
            "/usr/local/lib/python3.6/dist-packages/sklearn/linear_model/logistic.py:432: FutureWarning: Default solver will be changed to 'lbfgs' in 0.22. Specify a solver to silence this warning.\n",
            "  FutureWarning)\n"
          ],
          "name": "stderr"
        }
      ]
    }
  ]
}