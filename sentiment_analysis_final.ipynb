{
  "nbformat": 4,
  "nbformat_minor": 0,
  "metadata": {
    "colab": {
      "name": "sentiment_analysis_final.ipynb",
      "provenance": [],
      "collapsed_sections": []
    },
    "kernelspec": {
      "name": "python3",
      "display_name": "Python 3"
    }
  },
  "cells": [
    {
      "cell_type": "code",
      "metadata": {
        "id": "GqqMchaGNg5e",
        "colab_type": "code",
        "colab": {
          "base_uri": "https://localhost:8080/",
          "height": 34
        },
        "outputId": "a9f33086-f404-4d5d-b8a4-f655734f78e1"
      },
      "source": [
        "# mounting notebook with my google drive environment \n",
        "from google.colab import drive\n",
        "drive.mount('/content/drive')"
      ],
      "execution_count": 1,
      "outputs": [
        {
          "output_type": "stream",
          "text": [
            "Drive already mounted at /content/drive; to attempt to forcibly remount, call drive.mount(\"/content/drive\", force_remount=True).\n"
          ],
          "name": "stdout"
        }
      ]
    },
    {
      "cell_type": "markdown",
      "metadata": {
        "id": "D2zDowPNToDb",
        "colab_type": "text"
      },
      "source": [
        "### Imports, functions"
      ]
    },
    {
      "cell_type": "code",
      "metadata": {
        "id": "BUkntzQMTagH",
        "colab_type": "code",
        "colab": {
          "base_uri": "https://localhost:8080/",
          "height": 51
        },
        "outputId": "58dde296-9ff0-46d8-d1ad-725d44464247"
      },
      "source": [
        "from sklearn.feature_extraction.text import TfidfVectorizer\n",
        "from sklearn.naive_bayes import MultinomialNB\n",
        "import time\n",
        "import pandas as pd\n",
        "import numpy as np\n",
        "import matplotlib.pyplot as plt\n",
        "import seaborn as sns\n",
        "from sklearn.utils import shuffle\n",
        "from sklearn.model_selection import train_test_split\n",
        "from sklearn.metrics import classification_report, confusion_matrix\n",
        "from sklearn.linear_model import LogisticRegression\n",
        "from sklearn.model_selection import GridSearchCV\n",
        "\n",
        "dataset_path = '/content/drive/My Drive/NLP/dataset/'\n",
        "print('Datasets:')\n",
        "!dir \"/content/drive/My Drive/NLP/dataset\"\n",
        "\n",
        "def evaluate_model(y_true, predictions):\n",
        "  cm = confusion_matrix(y_true, predictions)\n",
        "  print(\"\\nConfusion matrix: \\n\", cm)\n",
        "  print(\"\")\n",
        "  cr = classification_report(y_true, predictions)\n",
        "  print(\"Classification report: \\n\", cr)\n",
        "  print(\"\")\n",
        "  sns.heatmap(cm, annot=True)\n",
        "  plt.show()"
      ],
      "execution_count": 2,
      "outputs": [
        {
          "output_type": "stream",
          "text": [
            "Datasets:\n",
            "rt-polarity.neg  rt-polarity.pos\n"
          ],
          "name": "stdout"
        }
      ]
    },
    {
      "cell_type": "markdown",
      "metadata": {
        "id": "nn2iq6dWTqjr",
        "colab_type": "text"
      },
      "source": [
        "### Data"
      ]
    },
    {
      "cell_type": "code",
      "metadata": {
        "id": "0HwJXJoCN89U",
        "colab_type": "code",
        "colab": {}
      },
      "source": [
        "# reading files into dataframes\n",
        "pos = pd.read_csv(dataset_path + 'rt-polarity.pos', sep='\\t', header=None, names=['Sentiment'])\n",
        "neg = pd.read_csv(dataset_path + 'rt-polarity.neg', sep='\\t', header=None, names=['Sentiment'])\n",
        "pos['Target'] = 1\n",
        "neg['Target'] = 0\n",
        "\n",
        "# creating one X dataframe\n",
        "X_full = pd.concat((pos, neg), axis=0, ignore_index=True)\n",
        "X_full = shuffle(X_full)\n",
        "\n",
        "# splitting data into training and testing parts\n",
        "X_train, X_test, y_train, y_test = train_test_split(X_full['Sentiment'],\n",
        "                                                    X_full['Target'],\n",
        "                                                    random_state=0,\n",
        "                                                    test_size=0.2)"
      ],
      "execution_count": 0,
      "outputs": []
    },
    {
      "cell_type": "markdown",
      "metadata": {
        "id": "ZRPU4JMoTyG1",
        "colab_type": "text"
      },
      "source": [
        "### Data vectorization"
      ]
    },
    {
      "cell_type": "code",
      "metadata": {
        "id": "qXmfzwMCT2RO",
        "colab_type": "code",
        "colab": {}
      },
      "source": [
        "# tokenize examples, filter symbols\n",
        "def tokenize(s): \n",
        "  re_tok = re.compile(f'([{string.punctuation}“”¨«»®´·º½¾¿¡§£₤‘’])')\n",
        "  return re_tok.sub(r' \\1 ', s).split()\n",
        "\n",
        "# vectorize tokenized examples\n",
        "def vectorizer(X_train, X_test):\n",
        "  vect = TfidfVectorizer(use_idf=True)\n",
        "  X_train_tfidf = vect.fit_transform(X_train)\n",
        "  X_test_tfidf = vect.transform(X_test)\n",
        "  return X_train_tfidf, X_test_tfidf\n",
        "\n",
        "# vectorized training and testing examples\n",
        "X_train_vec, X_test_vec = vectorizer(X_train, X_test)"
      ],
      "execution_count": 0,
      "outputs": []
    },
    {
      "cell_type": "markdown",
      "metadata": {
        "id": "oybJITbZTtN0",
        "colab_type": "text"
      },
      "source": [
        "# Naive Bayes"
      ]
    },
    {
      "cell_type": "markdown",
      "metadata": {
        "id": "yAeaEKT7eIyF",
        "colab_type": "text"
      },
      "source": [
        "## Functions"
      ]
    },
    {
      "cell_type": "code",
      "metadata": {
        "id": "w1QJap0CXzKw",
        "colab_type": "code",
        "colab": {}
      },
      "source": [
        "# grid search model to find optimal hyperparameters\n",
        "def nb_model(alpha):\n",
        "  grid={\"alpha\": alpha}\n",
        "  nb_model = MultinomialNB()\n",
        "  model = GridSearchCV(nb_model, grid,cv=5)\n",
        "  return model"
      ],
      "execution_count": 0,
      "outputs": []
    },
    {
      "cell_type": "markdown",
      "metadata": {
        "id": "qXT74zFKVF2B",
        "colab_type": "text"
      },
      "source": [
        "## Model"
      ]
    },
    {
      "cell_type": "code",
      "metadata": {
        "id": "mUL5jiToYXa2",
        "colab_type": "code",
        "colab": {
          "base_uri": "https://localhost:8080/",
          "height": 34
        },
        "outputId": "98c068c4-6083-458a-9465-a0d6d35f2d94"
      },
      "source": [
        "# creating and training a model\n",
        "start_time = time.time()\n",
        "model = nb_model(np.linspace(0.1,5, 10))\n",
        "model.fit(X_train_vec, y_train)\n",
        "pred_nb = model.predict(X_test_vec)\n",
        "print('Execution time: {}'.format(time.time() - start_time))"
      ],
      "execution_count": 6,
      "outputs": [
        {
          "output_type": "stream",
          "text": [
            "Execution time: 0.33834195137023926\n"
          ],
          "name": "stdout"
        }
      ]
    },
    {
      "cell_type": "markdown",
      "metadata": {
        "id": "QTGx73aGVHWK",
        "colab_type": "text"
      },
      "source": [
        "## Evaluation"
      ]
    },
    {
      "cell_type": "code",
      "metadata": {
        "id": "wiXfoq1SVI76",
        "colab_type": "code",
        "colab": {}
      },
      "source": [
        "# creating confusion matrix and classification report\n",
        "cm_nb = confusion_matrix(y_test, pred_nb)\n",
        "cr_nb = classification_report(y_test, pred_nb)"
      ],
      "execution_count": 0,
      "outputs": []
    },
    {
      "cell_type": "code",
      "metadata": {
        "id": "lzvcqWRtVLHx",
        "colab_type": "code",
        "colab": {
          "base_uri": "https://localhost:8080/",
          "height": 575
        },
        "outputId": "a2891eda-4d28-494f-b8ed-8243d1d2470b"
      },
      "source": [
        "# best parameters\n",
        "print('Best parameters are: {}'.format(model.best_params_))\n",
        "# accuracy\n",
        "print('Accuracy: {} %'.format(model.best_score_*100))\n",
        "# confusion matrix, classification report\n",
        "evaluate_model(y_test, pred_nb)"
      ],
      "execution_count": 8,
      "outputs": [
        {
          "output_type": "stream",
          "text": [
            "Best parameters are: {'alpha': 0.6444444444444445}\n",
            "Accuracy: 76.91405792003752 %\n",
            "\n",
            "Confusion matrix: \n",
            " [[884 214]\n",
            " [243 792]]\n",
            "\n",
            "Classification report: \n",
            "               precision    recall  f1-score   support\n",
            "\n",
            "           0       0.78      0.81      0.79      1098\n",
            "           1       0.79      0.77      0.78      1035\n",
            "\n",
            "    accuracy                           0.79      2133\n",
            "   macro avg       0.79      0.79      0.79      2133\n",
            "weighted avg       0.79      0.79      0.79      2133\n",
            "\n",
            "\n"
          ],
          "name": "stdout"
        },
        {
          "output_type": "display_data",
          "data": {
            "image/png": "[encoded data removed]",
            "text/plain": [
              "<Figure size 432x288 with 2 Axes>"
            ]
          },
          "metadata": {
            "tags": []
          }
        }
      ]
    },
    {
      "cell_type": "markdown",
      "metadata": {
        "id": "7wqqfLzRUymC",
        "colab_type": "text"
      },
      "source": [
        "# Logistic regression"
      ]
    },
    {
      "cell_type": "markdown",
      "metadata": {
        "id": "ffCPYo4zeKuZ",
        "colab_type": "text"
      },
      "source": [
        "## Functions"
      ]
    },
    {
      "cell_type": "code",
      "metadata": {
        "id": "LuNIJnVZX894",
        "colab_type": "code",
        "colab": {}
      },
      "source": [
        "# grid search model to find optimal hyperparameters\n",
        "def loregr_model(C_range, penalties):\n",
        "  grid={\"C\": C_range, \"penalty\": penalties}\n",
        "  logreg = LogisticRegression()\n",
        "  model = GridSearchCV(logreg, grid,cv=2)\n",
        "  return model"
      ],
      "execution_count": 0,
      "outputs": []
    },
    {
      "cell_type": "markdown",
      "metadata": {
        "id": "obT9k3y-eNlh",
        "colab_type": "text"
      },
      "source": [
        "## Model"
      ]
    },
    {
      "cell_type": "code",
      "metadata": {
        "id": "smA4QLUxY7xj",
        "colab_type": "code",
        "colab": {
          "base_uri": "https://localhost:8080/",
          "height": 88
        },
        "outputId": "fc2020cb-1360-49bb-bd43-9781af516af7"
      },
      "source": [
        "# creating and training a model\n",
        "start_time = time.time()\n",
        "model = loregr_model(np.linspace(1,10,10), [\"l1\",\"l2\"])\n",
        "model.fit(X_train_vec, y_train)\n",
        "pred_lg = model.predict(X_test_vec)\n",
        "print('Execution time: {}'.format(time.time() - start_time))"
      ],
      "execution_count": 10,
      "outputs": [
        {
          "output_type": "stream",
          "text": [
            "/usr/local/lib/python3.6/dist-packages/sklearn/linear_model/logistic.py:432: FutureWarning: Default solver will be changed to 'lbfgs' in 0.22. Specify a solver to silence this warning.\n",
            "  FutureWarning)\n"
          ],
          "name": "stderr"
        },
        {
          "output_type": "stream",
          "text": [
            "Execution time: 2.754056215286255\n"
          ],
          "name": "stdout"
        }
      ]
    },
    {
      "cell_type": "markdown",
      "metadata": {
        "id": "NYC_s-HlVg9S",
        "colab_type": "text"
      },
      "source": [
        "## Evaluation"
      ]
    },
    {
      "cell_type": "code",
      "metadata": {
        "id": "mPEvIJWoVjJc",
        "colab_type": "code",
        "colab": {}
      },
      "source": [
        "# creating confusion matrix and classification report\n",
        "cm_lg = confusion_matrix(y_test, pred_lg)\n",
        "cr_lg = classification_report(y_test, pred_lg)"
      ],
      "execution_count": 0,
      "outputs": []
    },
    {
      "cell_type": "code",
      "metadata": {
        "id": "9K1k8dJ_VmKv",
        "colab_type": "code",
        "colab": {
          "base_uri": "https://localhost:8080/",
          "height": 575
        },
        "outputId": "d7e0ecf6-2e7d-42a6-8671-e413e0799bbe"
      },
      "source": [
        "# best parameters\n",
        "print('Best parameters are: {}'.format(model.best_params_))\n",
        "# accuracy\n",
        "print('Accuracy: {} %'.format(model.best_score_*100))\n",
        "# confusion matrix, classification report\n",
        "evaluate_model(y_test, pred_nb)"
      ],
      "execution_count": 12,
      "outputs": [
        {
          "output_type": "stream",
          "text": [
            "Best parameters are: {'C': 4.0, 'penalty': 'l2'}\n",
            "Accuracy: 74.89740884042678 %\n",
            "\n",
            "Confusion matrix: \n",
            " [[884 214]\n",
            " [243 792]]\n",
            "\n",
            "Classification report: \n",
            "               precision    recall  f1-score   support\n",
            "\n",
            "           0       0.78      0.81      0.79      1098\n",
            "           1       0.79      0.77      0.78      1035\n",
            "\n",
            "    accuracy                           0.79      2133\n",
            "   macro avg       0.79      0.79      0.79      2133\n",
            "weighted avg       0.79      0.79      0.79      2133\n",
            "\n",
            "\n"
          ],
          "name": "stdout"
        },
        {
          "output_type": "display_data",
          "data": {
            "image/png": "[encoded data removed]",
            "text/plain": [
              "<Figure size 432x288 with 2 Axes>"
            ]
          },
          "metadata": {
            "tags": []
          }
        }
      ]
    }
  ]
}