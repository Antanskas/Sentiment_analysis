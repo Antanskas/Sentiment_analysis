{
  "nbformat": 4,
  "nbformat_minor": 0,
  "metadata": {
    "colab": {
      "name": "sentiment_analysis_tfidf.ipynb",
      "provenance": [],
      "collapsed_sections": [
        "Knf_b4M7k8F1",
        "Sv9hZAyrNnZ3",
        "cOLzdpq-iMvp",
        "EKSX7UwShpFs",
        "ZPLu8H9Xh55T",
        "kTt6uiewh8eP",
        "WAeRi32siAA0",
        "xuTdhqirpBPX",
        "_C3e5zCbo2lY",
        "xbuqPIMoqWJD",
        "RyWDq_7Y1Ybz",
        "WPiAMFVCWT5X"
      ],
      "machine_shape": "hm"
    },
    "kernelspec": {
      "name": "python3",
      "display_name": "Python 3"
    }
  },
  "cells": [
    {
      "cell_type": "markdown",
      "metadata": {
        "id": "Knf_b4M7k8F1",
        "colab_type": "text"
      },
      "source": [
        "### Mounting, imports"
      ]
    },
    {
      "cell_type": "code",
      "metadata": {
        "id": "BC9Q_bJ2Mpo-",
        "colab_type": "code",
        "outputId": "326bf365-2c6b-4a52-db62-42fa66524e78",
        "colab": {
          "base_uri": "https://localhost:8080/",
          "height": 0
        }
      },
      "source": [
        "from google.colab import drive\n",
        "drive.mount('/content/drive')"
      ],
      "execution_count": 21,
      "outputs": [
        {
          "output_type": "stream",
          "text": [
            "Drive already mounted at /content/drive; to attempt to forcibly remount, call drive.mount(\"/content/drive\", force_remount=True).\n"
          ],
          "name": "stdout"
        }
      ]
    },
    {
      "cell_type": "code",
      "metadata": {
        "id": "5FNyM0P6M7l6",
        "colab_type": "code",
        "colab": {}
      },
      "source": [
        "import pandas as pd\n",
        "import numpy as np\n",
        "import re, string\n",
        "from sklearn.utils import shuffle\n",
        "from sklearn.model_selection import train_test_split\n",
        "from sklearn.metrics import classification_report, confusion_matrix\n",
        "import matplotlib.pyplot as plt\n",
        "import seaborn as sns\n",
        "from sklearn.linear_model import LogisticRegression\n",
        "from sklearn.model_selection import GridSearchCV\n",
        "from sklearn.feature_extraction.text import CountVectorizer, TfidfVectorizer\n",
        "\n",
        "dataset_path = '/content/drive/My Drive/NLP/dataset/'"
      ],
      "execution_count": 0,
      "outputs": []
    },
    {
      "cell_type": "markdown",
      "metadata": {
        "id": "Sv9hZAyrNnZ3",
        "colab_type": "text"
      },
      "source": [
        "### Shared Functions"
      ]
    },
    {
      "cell_type": "code",
      "metadata": {
        "id": "faNgURLQXbVQ",
        "colab_type": "code",
        "colab": {}
      },
      "source": [
        "# load and preprocess function\n",
        "def load_data(dataset_path):\n",
        "  pos = pd.read_csv(dataset_path + 'rt-polarity.pos', sep='\\t', header=None, names=['Sentiment'])\n",
        "  neg = pd.read_csv(dataset_path + 'rt-polarity.neg', sep='\\t', header=None, names=['Sentiment'])\n",
        "  pos['Target'] = 1\n",
        "  neg['Target'] = 0\n",
        "\n",
        "  X_full = pd.concat((pos, neg), axis=0, ignore_index=True)\n",
        "  X_full = shuffle(X_full)\n",
        "\n",
        "  X_train, X_test, y_train, y_test = train_test_split(X_full['Sentiment'].values, X_full['Target'].values, test_size=0.2)\n",
        "  return X_full, X_train, X_test, y_train, y_test\n",
        "\n",
        "# Printing out model accuracy, confusion matrix, plotting heatmap\n",
        "def evaluate_model(y_true, predictions):\n",
        "  cm = confusion_matrix(y_true, predictions)\n",
        "  print(\"\\nConfusion matrix: \\n\", cm)\n",
        "  print(\"\")\n",
        "  cr = classification_report(y_true, predictions)\n",
        "  print(\"Classification report: \\n\", cr)\n",
        "  print(\"\")\n",
        "  sns.heatmap(cm, annot=True)\n",
        "  plt.show()\n",
        "\n",
        "# tokenize examples, filter symbols\n",
        "def tokenize(s): \n",
        "  re_tok = re.compile(f'([{string.punctuation}“”¨«»®´·º½¾¿¡§£₤‘’])')\n",
        "  return re_tok.sub(r' \\1 ', s).split()\n",
        "\n",
        "# vectorize tokenized examples\n",
        "def vectorizer(X_train, X_test):\n",
        "  vect = TfidfVectorizer(use_idf=True)\n",
        "#   strip_accents='unicode', tokenizer=tokenize, ngram_range=(1, 2), max_df=0.9, min_df=3, sublinear_tf=True\n",
        "  X_train_tfidf = vect.fit_transform(X_train)\n",
        "  X_test_tfidf = vect.transform(X_test)\n",
        "  return X_train_tfidf, X_test_tfidf"
      ],
      "execution_count": 0,
      "outputs": []
    },
    {
      "cell_type": "markdown",
      "metadata": {
        "id": "cOLzdpq-iMvp",
        "colab_type": "text"
      },
      "source": [
        "### Data"
      ]
    },
    {
      "cell_type": "code",
      "metadata": {
        "id": "uOqxBcntiPWU",
        "colab_type": "code",
        "outputId": "5598d80e-02d6-4b1c-f6f1-d0435511530f",
        "colab": {
          "base_uri": "https://localhost:8080/",
          "height": 0
        }
      },
      "source": [
        "# loading training and testing datasets\n",
        "X_full, X_train, X_test, y_train, y_test = load_data(dataset_path)\n",
        "\n",
        "# for understanding with what king of data we're working\n",
        "X_train[0]"
      ],
      "execution_count": 24,
      "outputs": [
        {
          "output_type": "execute_result",
          "data": {
            "text/plain": [
              "'offers that rare combination of entertainment and education . '"
            ]
          },
          "metadata": {
            "tags": []
          },
          "execution_count": 24
        }
      ]
    },
    {
      "cell_type": "markdown",
      "metadata": {
        "id": "EKSX7UwShpFs",
        "colab_type": "text"
      },
      "source": [
        "### Vectorized data"
      ]
    },
    {
      "cell_type": "code",
      "metadata": {
        "id": "LzzIg0uthrJo",
        "colab_type": "code",
        "colab": {}
      },
      "source": [
        "# vectorizing training and testing datasets\n",
        "tfidf_train, tfidf_test = vectorizer(X_train, X_test)"
      ],
      "execution_count": 0,
      "outputs": []
    },
    {
      "cell_type": "markdown",
      "metadata": {
        "id": "FtwLOlgJot-h",
        "colab_type": "text"
      },
      "source": [
        "# Naive Bayes"
      ]
    },
    {
      "cell_type": "markdown",
      "metadata": {
        "id": "ZPLu8H9Xh55T",
        "colab_type": "text"
      },
      "source": [
        "## Functions"
      ]
    },
    {
      "cell_type": "code",
      "metadata": {
        "id": "_3fT81f4IQeU",
        "colab_type": "code",
        "colab": {}
      },
      "source": [
        "# Calculate Naive Bayes algorithm parameters\n",
        "def calculations(X, y):\n",
        "  p = X[y==1].sum(0) + 1\n",
        "  q = X[y==0].sum(0) + 1\n",
        "  r = np.log((p/p.sum())/(q/q.sum()))\n",
        "  b = np.log(len(p) / len(q))\n",
        "  return r, b\n",
        "\n",
        "# Predict targets of given matrix using learned parameters\n",
        "def predict_Bayes(X, r, b):\n",
        "  pre_preds = X @ r.T + b\n",
        "  predictions= pre_preds.T > 0\n",
        "  return predictions\n",
        "\n",
        "# Calculate our predictions accuracy\n",
        "def accuracy(y_true, predictions):\n",
        "  accuracy = (predictions == y_true).mean()*100\n",
        "  return accuracy"
      ],
      "execution_count": 0,
      "outputs": []
    },
    {
      "cell_type": "markdown",
      "metadata": {
        "id": "kTt6uiewh8eP",
        "colab_type": "text"
      },
      "source": [
        "## Model"
      ]
    },
    {
      "cell_type": "code",
      "metadata": {
        "id": "bscTqD62bir-",
        "colab_type": "code",
        "colab": {
          "base_uri": "https://localhost:8080/",
          "height": 34
        },
        "outputId": "861c470d-72ea-4e78-f7ca-0f8da236cce4"
      },
      "source": [
        "bayes_time = time.time()\n",
        "# calculating Naive Bayes model parameters\n",
        "r, b = calculations(tfidf_train, y_train)\n",
        "\n",
        "# predicting test data targets\n",
        "predictions_bayes = predict_Bayes(tfidf_test, r, b)\n",
        "\n",
        "# calculating our model accuracy\n",
        "accuracy = accuracy(predictions_bayes, y_test)\n",
        "print('Execution time: {}s'.format(time.time() - bayes_time))"
      ],
      "execution_count": 27,
      "outputs": [
        {
          "output_type": "stream",
          "text": [
            "Execution time: 0.004588127136230469s\n"
          ],
          "name": "stdout"
        }
      ]
    },
    {
      "cell_type": "markdown",
      "metadata": {
        "id": "WAeRi32siAA0",
        "colab_type": "text"
      },
      "source": [
        "## Results"
      ]
    },
    {
      "cell_type": "code",
      "metadata": {
        "id": "szLRyDqPg53q",
        "colab_type": "code",
        "outputId": "78481033-effc-4c55-baed-531d47a02cf7",
        "colab": {
          "base_uri": "https://localhost:8080/",
          "height": 558
        }
      },
      "source": [
        "# printing accuracy\n",
        "print('Test accuracy: {}'.format(accuracy))\n",
        "\n",
        "# model evaluation (confusion matrix, heatmap)\n",
        "evaluate_model(y_test, predictions_bayes.T)"
      ],
      "execution_count": 28,
      "outputs": [
        {
          "output_type": "stream",
          "text": [
            "Test accuracy: 77.87154242850445\n",
            "\n",
            "Confusion matrix: \n",
            " [[820 210]\n",
            " [262 841]]\n",
            "\n",
            "Classification report: \n",
            "               precision    recall  f1-score   support\n",
            "\n",
            "           0       0.76      0.80      0.78      1030\n",
            "           1       0.80      0.76      0.78      1103\n",
            "\n",
            "    accuracy                           0.78      2133\n",
            "   macro avg       0.78      0.78      0.78      2133\n",
            "weighted avg       0.78      0.78      0.78      2133\n",
            "\n",
            "\n"
          ],
          "name": "stdout"
        },
        {
          "output_type": "display_data",
          "data": {
            "image/png": "[encoded data removed]",
            "text/plain": [
              "<Figure size 432x288 with 2 Axes>"
            ]
          },
          "metadata": {
            "tags": []
          }
        }
      ]
    },
    {
      "cell_type": "markdown",
      "metadata": {
        "id": "xuTdhqirpBPX",
        "colab_type": "text"
      },
      "source": [
        "# Logistic regression"
      ]
    },
    {
      "cell_type": "markdown",
      "metadata": {
        "id": "_C3e5zCbo2lY",
        "colab_type": "text"
      },
      "source": [
        "## Functions"
      ]
    },
    {
      "cell_type": "code",
      "metadata": {
        "id": "IGPT3yHJpDJv",
        "colab_type": "code",
        "colab": {}
      },
      "source": [
        "# Create logistic regression model and try \n",
        "# different hyperparameters for better performance\n",
        "def create_model(C_range, penalties):\n",
        "  grid={\"C\": C_range, \"penalty\": penalties}\n",
        "  logreg = LogisticRegression()\n",
        "  model = GridSearchCV(logreg, grid,cv=2)\n",
        "  return model"
      ],
      "execution_count": 0,
      "outputs": []
    },
    {
      "cell_type": "markdown",
      "metadata": {
        "id": "xbuqPIMoqWJD",
        "colab_type": "text"
      },
      "source": [
        "## Model"
      ]
    },
    {
      "cell_type": "code",
      "metadata": {
        "id": "UMqWhG4PpJw-",
        "colab_type": "code",
        "outputId": "8ad10a7a-89c0-4fe5-8c7a-8c225c7d472b",
        "colab": {
          "base_uri": "https://localhost:8080/",
          "height": 0
        }
      },
      "source": [
        "# create a model with grid search for optimal hyperparameters\n",
        "model = create_model(np.linspace(1,10,10), [\"l1\",\"l2\"])\n",
        "\n",
        "# train model\n",
        "model.fit(tfidf_train, y_train)\n",
        "\n",
        "# make predictions on test data\n",
        "predictions_logistic = model.predict(tfidf_test)"
      ],
      "execution_count": 30,
      "outputs": [
        {
          "output_type": "stream",
          "text": [
            "/usr/local/lib/python3.6/dist-packages/sklearn/linear_model/logistic.py:432: FutureWarning: Default solver will be changed to 'lbfgs' in 0.22. Specify a solver to silence this warning.\n",
            "  FutureWarning)\n"
          ],
          "name": "stderr"
        }
      ]
    },
    {
      "cell_type": "markdown",
      "metadata": {
        "id": "RyWDq_7Y1Ybz",
        "colab_type": "text"
      },
      "source": [
        "## Results"
      ]
    },
    {
      "cell_type": "code",
      "metadata": {
        "id": "mY6oKz3yq2xR",
        "colab_type": "code",
        "outputId": "1dcbfed4-fcb7-4f9f-e415-2c825062693d",
        "colab": {
          "base_uri": "https://localhost:8080/",
          "height": 575
        }
      },
      "source": [
        "# best parameters\n",
        "print('Best parameters are: {}'.format(model.best_params_))\n",
        "\n",
        "# printing accuracy\n",
        "print('Accuracy: {} %'.format(model.best_score_*100))\n",
        "\n",
        "# model evaluation (confusion matrix, heatmap)\n",
        "evaluate_model(y_test, predictions_logistic)"
      ],
      "execution_count": 31,
      "outputs": [
        {
          "output_type": "stream",
          "text": [
            "Best parameters are: {'C': 5.0, 'penalty': 'l2'}\n",
            "Accuracy: 74.41669597842655 %\n",
            "\n",
            "Confusion matrix: \n",
            " [[784 246]\n",
            " [245 858]]\n",
            "\n",
            "Classification report: \n",
            "               precision    recall  f1-score   support\n",
            "\n",
            "           0       0.76      0.76      0.76      1030\n",
            "           1       0.78      0.78      0.78      1103\n",
            "\n",
            "    accuracy                           0.77      2133\n",
            "   macro avg       0.77      0.77      0.77      2133\n",
            "weighted avg       0.77      0.77      0.77      2133\n",
            "\n",
            "\n"
          ],
          "name": "stdout"
        },
        {
          "output_type": "display_data",
          "data": {
            "image/png": "[encoded data removed]",
            "text/plain": [
              "<Figure size 432x288 with 2 Axes>"
            ]
          },
          "metadata": {
            "tags": []
          }
        }
      ]
    },
    {
      "cell_type": "markdown",
      "metadata": {
        "id": "K997H8pgX1fq",
        "colab_type": "text"
      },
      "source": [
        "## Testing logistic regression execution time"
      ]
    },
    {
      "cell_type": "code",
      "metadata": {
        "id": "JWRpVPJjW9OB",
        "colab_type": "code",
        "colab": {
          "base_uri": "https://localhost:8080/",
          "height": 88
        },
        "outputId": "c1d0c6ec-0a88-4f7c-9df1-d84a302251a3"
      },
      "source": [
        "start_log = time.time()\n",
        "mod = LogisticRegression(C=5, penalty='l2')\n",
        "mod.fit(tfidf_train, y_train)\n",
        "acc = mod.score(tfidf_test, y_test)\n",
        "print('Execution time: {}s'.format(time.time() - start_log))"
      ],
      "execution_count": 32,
      "outputs": [
        {
          "output_type": "stream",
          "text": [
            "Execution time: 0.08236956596374512s\n"
          ],
          "name": "stdout"
        },
        {
          "output_type": "stream",
          "text": [
            "/usr/local/lib/python3.6/dist-packages/sklearn/linear_model/logistic.py:432: FutureWarning: Default solver will be changed to 'lbfgs' in 0.22. Specify a solver to silence this warning.\n",
            "  FutureWarning)\n"
          ],
          "name": "stderr"
        }
      ]
    }
  ]
}